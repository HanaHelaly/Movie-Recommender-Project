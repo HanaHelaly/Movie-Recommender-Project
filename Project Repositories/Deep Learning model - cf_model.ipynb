{
  "nbformat": 4,
  "nbformat_minor": 0,
  "metadata": {
    "colab": {
      "provenance": [],
      "gpuType": "T4"
    },
    "kernelspec": {
      "name": "python3",
      "display_name": "Python 3"
    },
    "language_info": {
      "name": "python"
    },
    "accelerator": "GPU"
  },
  "cells": [
    {
      "cell_type": "markdown",
      "source": [
        "# Import Libraries"
      ],
      "metadata": {
        "id": "RE-ZrZIEHgYW"
      }
    },
    {
      "cell_type": "code",
      "source": [
        "import math\n",
        "import pandas as pd\n",
        "import numpy as np\n",
        "import matplotlib.pyplot as plt\n",
        "from sklearn.metrics.pairwise import cosine_similarity\n",
        "from sklearn.model_selection import train_test_split\n",
        "from sklearn.metrics import mean_squared_error\n",
        "from keras.models import Model\n",
        "from keras.layers import Embedding, Input, Flatten, Dot, Dense, Dropout, Concatenate\n",
        "from keras.callbacks import Callback, EarlyStopping, ModelCheckpoint\n",
        "import re\n",
        "from keras.models import Model, model_from_json\n",
        "from google.colab import files"
      ],
      "metadata": {
        "id": "eP3MmoCMHfsN"
      },
      "execution_count": 1,
      "outputs": []
    },
    {
      "cell_type": "markdown",
      "source": [
        "# Load Datasets"
      ],
      "metadata": {
        "id": "OkJmb4PPObXj"
      }
    },
    {
      "cell_type": "code",
      "source": [
        "from google.colab import drive\n",
        "drive.mount('/content/drive')"
      ],
      "metadata": {
        "colab": {
          "base_uri": "https://localhost:8080/"
        },
        "id": "XoOL3CWrvYHG",
        "outputId": "855f70be-0bea-4f26-9e8b-93331af8e057"
      },
      "execution_count": 3,
      "outputs": [
        {
          "output_type": "stream",
          "name": "stdout",
          "text": [
            "Mounted at /content/drive\n"
          ]
        }
      ]
    },
    {
      "cell_type": "code",
      "execution_count": 4,
      "metadata": {
        "id": "NbwPuhXbHApF"
      },
      "outputs": [],
      "source": [
        "movies = pd.read_csv('/content/drive/MyDrive/Recommender Dataset/Project/ml-latest-small/movies.csv')\n",
        "ratings = pd.read_csv('/content/drive/MyDrive/Recommender Dataset/Project/ml-latest-small/ratings.csv')"
      ]
    },
    {
      "cell_type": "markdown",
      "source": [
        "# Data Preprocessing"
      ],
      "metadata": {
        "id": "g6Odl063Ozc9"
      }
    },
    {
      "cell_type": "code",
      "source": [
        "print(movies[movies['title'].str.contains(\"The\")])"
      ],
      "metadata": {
        "colab": {
          "base_uri": "https://localhost:8080/"
        },
        "id": "18-NhiGbg9g9",
        "outputId": "20c778e0-5792-48cc-a6f5-f6c68fb26665"
      },
      "execution_count": 5,
      "outputs": [
        {
          "output_type": "stream",
          "name": "stdout",
          "text": [
            "      movieId                                              title  \\\n",
            "10         11                     American President, The (1995)   \n",
            "26         27                                Now and Then (1995)   \n",
            "28         29  City of Lost Children, The (Cité des enfants p...   \n",
            "46         50                         Usual Suspects, The (1995)   \n",
            "49         54                              Big Green, The (1995)   \n",
            "...       ...                                                ...   \n",
            "9717   188833              The Man Who Killed Don Quixote (2018)   \n",
            "9724   190183                           The Darkest Minds (2018)   \n",
            "9732   193565                          Gintama: The Movie (2010)   \n",
            "9733   193567  anohana: The Flower We Saw That Day - The Movi...   \n",
            "9735   193573            Love Live! The School Idol Movie (2015)   \n",
            "\n",
            "                                      genres  \n",
            "10                      Comedy|Drama|Romance  \n",
            "26                            Children|Drama  \n",
            "28    Adventure|Drama|Fantasy|Mystery|Sci-Fi  \n",
            "46                    Crime|Mystery|Thriller  \n",
            "49                           Children|Comedy  \n",
            "...                                      ...  \n",
            "9717                Adventure|Comedy|Fantasy  \n",
            "9724                         Sci-Fi|Thriller  \n",
            "9732          Action|Animation|Comedy|Sci-Fi  \n",
            "9733                         Animation|Drama  \n",
            "9735                               Animation  \n",
            "\n",
            "[2253 rows x 3 columns]\n"
          ]
        }
      ]
    },
    {
      "cell_type": "code",
      "source": [
        "def correct_movie_titles(movies):\n",
        "    def correct_title(title):\n",
        "        # Regex to handle titles ending with \", The\" followed by any characters\n",
        "        new_title = re.sub(r'^(.*), The (.*)$', r'The \\1 \\2', title)\n",
        "        return new_title\n",
        "\n",
        "    movies['title'] = movies['title'].apply(correct_title)\n",
        "    return movies"
      ],
      "metadata": {
        "id": "gl4ZjPHifU0u"
      },
      "execution_count": 6,
      "outputs": []
    },
    {
      "cell_type": "code",
      "source": [
        "movies = correct_movie_titles(movies)"
      ],
      "metadata": {
        "id": "_m2jZursfXEW"
      },
      "execution_count": 7,
      "outputs": []
    },
    {
      "cell_type": "code",
      "source": [
        "# Display a few samples to check if the titles are corrected\n",
        "print(movies[movies['title'].str.contains(\"The\")])"
      ],
      "metadata": {
        "colab": {
          "base_uri": "https://localhost:8080/"
        },
        "id": "zTUJisaRfpwt",
        "outputId": "af474145-628e-42cd-dfd5-768d9cc02b18"
      },
      "execution_count": 8,
      "outputs": [
        {
          "output_type": "stream",
          "name": "stdout",
          "text": [
            "      movieId                                              title  \\\n",
            "10         11                      The American President (1995)   \n",
            "26         27                                Now and Then (1995)   \n",
            "28         29  The City of Lost Children (Cité des enfants pe...   \n",
            "46         50                          The Usual Suspects (1995)   \n",
            "49         54                               The Big Green (1995)   \n",
            "...       ...                                                ...   \n",
            "9717   188833              The Man Who Killed Don Quixote (2018)   \n",
            "9724   190183                           The Darkest Minds (2018)   \n",
            "9732   193565                          Gintama: The Movie (2010)   \n",
            "9733   193567  anohana: The Flower We Saw That Day - The Movi...   \n",
            "9735   193573            Love Live! The School Idol Movie (2015)   \n",
            "\n",
            "                                      genres  \n",
            "10                      Comedy|Drama|Romance  \n",
            "26                            Children|Drama  \n",
            "28    Adventure|Drama|Fantasy|Mystery|Sci-Fi  \n",
            "46                    Crime|Mystery|Thriller  \n",
            "49                           Children|Comedy  \n",
            "...                                      ...  \n",
            "9717                Adventure|Comedy|Fantasy  \n",
            "9724                         Sci-Fi|Thriller  \n",
            "9732          Action|Animation|Comedy|Sci-Fi  \n",
            "9733                         Animation|Drama  \n",
            "9735                               Animation  \n",
            "\n",
            "[2253 rows x 3 columns]\n"
          ]
        }
      ]
    },
    {
      "cell_type": "code",
      "source": [
        "has_duplicates = movies.duplicated().any()\n",
        "has_duplicates"
      ],
      "metadata": {
        "colab": {
          "base_uri": "https://localhost:8080/"
        },
        "id": "tjZBpZ5mfk6Z",
        "outputId": "f925db33-16d6-4d16-a3fb-d1f764955d07"
      },
      "execution_count": 9,
      "outputs": [
        {
          "output_type": "execute_result",
          "data": {
            "text/plain": [
              "False"
            ]
          },
          "metadata": {},
          "execution_count": 9
        }
      ]
    },
    {
      "cell_type": "code",
      "source": [
        "# Get the maximum user and movie IDs\n",
        "max_userid = ratings['userId'].drop_duplicates().max()\n",
        "max_movieid = ratings['movieId'].drop_duplicates().max()"
      ],
      "metadata": {
        "id": "_swcu_NiOsVt"
      },
      "execution_count": 10,
      "outputs": []
    },
    {
      "cell_type": "code",
      "source": [
        "# Shuffle the data to ensure randomness\n",
        "shuffled_ratings = ratings.sample(frac=1., random_state=42)"
      ],
      "metadata": {
        "id": "Ij-9jPqJO2dd"
      },
      "execution_count": 11,
      "outputs": []
    },
    {
      "cell_type": "code",
      "source": [
        "# Extract users, movies, and ratings arrays\n",
        "Users = shuffled_ratings['userId'].values\n",
        "Movies = shuffled_ratings['movieId'].values\n",
        "Ratings = shuffled_ratings['rating'].values"
      ],
      "metadata": {
        "id": "5TeVz2VfO54u"
      },
      "execution_count": 12,
      "outputs": []
    },
    {
      "cell_type": "markdown",
      "source": [
        "# Model"
      ],
      "metadata": {
        "id": "VB6Z6_UCPIMz"
      }
    },
    {
      "cell_type": "code",
      "source": [
        "# Define constants\n",
        "K_FACTORS = 100  # The number of latent factors for embeddings\n",
        "TEST_USER = 1"
      ],
      "metadata": {
        "id": "VK3QugV9O9OA"
      },
      "execution_count": 13,
      "outputs": []
    },
    {
      "cell_type": "code",
      "source": [
        "user_input = Input(shape=(1,), name='user_input')\n",
        "item_input = Input(shape=(1,), name='item_input')"
      ],
      "metadata": {
        "id": "T6ZDywWJs_qV"
      },
      "execution_count": 14,
      "outputs": []
    },
    {
      "cell_type": "code",
      "source": [
        "# Define embeddings\n",
        "user_embedding = Embedding(input_dim=max_userid+1, output_dim=K_FACTORS, input_length=1, name='user_embedding')(user_input)\n",
        "item_embedding = Embedding(input_dim=max_movieid+1, output_dim=K_FACTORS, input_length=1, name='item_embedding')(item_input)"
      ],
      "metadata": {
        "id": "DVM8WQwbtJjE"
      },
      "execution_count": 15,
      "outputs": []
    },
    {
      "cell_type": "code",
      "source": [
        "# Flatten embeddings\n",
        "user_vec = Flatten(name='flatten_users')(user_embedding)\n",
        "item_vec = Flatten(name='flatten_items')(item_embedding)"
      ],
      "metadata": {
        "id": "FeP4eFExtNIX"
      },
      "execution_count": 16,
      "outputs": []
    },
    {
      "cell_type": "code",
      "source": [
        "# Compute dot product of user and item vectors\n",
        "y = Dot(axes=1, name='dot_product')([user_vec, item_vec])"
      ],
      "metadata": {
        "id": "jm7fxynBtQBi"
      },
      "execution_count": 17,
      "outputs": []
    },
    {
      "cell_type": "code",
      "source": [
        "# Define the model\n",
        "cf_model = Model(inputs=[user_input, item_input], outputs=y)"
      ],
      "metadata": {
        "id": "QGbPo1JAtd5o"
      },
      "execution_count": 26,
      "outputs": []
    },
    {
      "cell_type": "code",
      "source": [
        "# Compile the model using MSE as the loss function and the Adam optimizer\n",
        "cf_model.compile(optimizer='adam', loss='mse')"
      ],
      "metadata": {
        "id": "DSdaipJntgv0"
      },
      "execution_count": 27,
      "outputs": []
    },
    {
      "cell_type": "code",
      "source": [
        "# Callbacks for early stopping and saving the best model\n",
        "callbacks = [\n",
        "    EarlyStopping(patience=2, monitor='val_loss'),\n",
        "    ModelCheckpoint('best_cf_model.h5', save_best_only=True, monitor='val_loss', mode='min')\n",
        "]"
      ],
      "metadata": {
        "id": "KKYW2yqOtioU"
      },
      "execution_count": 20,
      "outputs": []
    },
    {
      "cell_type": "code",
      "source": [
        "# Train the model\n",
        "cf_model.fit([Users, Movies], Ratings, epochs=5, batch_size=64,\n",
        "          validation_split=0.2, callbacks=callbacks)"
      ],
      "metadata": {
        "colab": {
          "base_uri": "https://localhost:8080/"
        },
        "id": "d2ZVkPUytluq",
        "outputId": "1fafb8ac-5bc4-4749-be19-bc23062f9306"
      },
      "execution_count": 28,
      "outputs": [
        {
          "output_type": "stream",
          "name": "stdout",
          "text": [
            "Epoch 1/5\n",
            "1261/1261 [==============================] - ETA: 0s - loss: 0.4842"
          ]
        },
        {
          "output_type": "stream",
          "name": "stderr",
          "text": [
            "/usr/local/lib/python3.10/dist-packages/keras/src/engine/training.py:3103: UserWarning: You are saving your model as an HDF5 file via `model.save()`. This file format is considered legacy. We recommend using instead the native Keras format, e.g. `model.save('my_model.keras')`.\n",
            "  saving_api.save_model(\n"
          ]
        },
        {
          "output_type": "stream",
          "name": "stdout",
          "text": [
            "\b\b\b\b\b\b\b\b\b\b\b\b\b\b\b\b\b\b\b\b\b\b\b\b\b\b\b\b\b\b\b\b\b\b\b\b\b\b\b\b\b\b\b\b\b\b\b\b\b\b\b\b\b\b\b\b\b\b\b\b\b\b\b\b\b\b\b\r1261/1261 [==============================] - 18s 14ms/step - loss: 0.4842 - val_loss: 1.2825\n",
            "Epoch 2/5\n",
            "1261/1261 [==============================] - 11s 9ms/step - loss: 0.4014 - val_loss: 1.2763\n",
            "Epoch 3/5\n",
            "1261/1261 [==============================] - 10s 8ms/step - loss: 0.3167 - val_loss: 1.2899\n",
            "Epoch 4/5\n",
            "1261/1261 [==============================] - 9s 8ms/step - loss: 0.2480 - val_loss: 1.2962\n"
          ]
        },
        {
          "output_type": "execute_result",
          "data": {
            "text/plain": [
              "<keras.src.callbacks.History at 0x7fad8c1e3280>"
            ]
          },
          "metadata": {},
          "execution_count": 28
        }
      ]
    },
    {
      "cell_type": "code",
      "source": [
        "# Save the model in HDF5 format after training\n",
        "cf_model.save('cf_model_final.h5')"
      ],
      "metadata": {
        "colab": {
          "base_uri": "https://localhost:8080/"
        },
        "id": "9Z3fu78htoVN",
        "outputId": "2b2f7fe9-7e25-4d31-d2ad-2dcf9e5cf8d3"
      },
      "execution_count": 22,
      "outputs": [
        {
          "output_type": "stream",
          "name": "stdout",
          "text": [
            "Model saved in HDF5 format.\n"
          ]
        }
      ]
    },
    {
      "cell_type": "code",
      "source": [
        "model_json = cf_model.to_json()\n",
        "\n",
        "# Write the model architecture to a JSON file\n",
        "with open('cf_model_architecture.json', 'w') as json_file:\n",
        "    json_file.write(model_json)"
      ],
      "metadata": {
        "colab": {
          "base_uri": "https://localhost:8080/"
        },
        "id": "pBTXYjc3tRUO",
        "outputId": "dfe30a09-3e11-429d-ea18-ba4eddc123cd"
      },
      "execution_count": 23,
      "outputs": [
        {
          "output_type": "stream",
          "name": "stdout",
          "text": [
            "Model architecture saved to JSON.\n"
          ]
        }
      ]
    },
    {
      "cell_type": "code",
      "source": [
        "# # Define the custom model\n",
        "# class CFModel(Model):\n",
        "#     def __init__(self, num_users, num_items, embedding_size, **kwargs):\n",
        "#         super(CFModel, self).__init__(**kwargs)\n",
        "#         self.num_users = num_users\n",
        "#         self.num_items = num_items\n",
        "#         self.embedding_size = embedding_size\n",
        "\n",
        "#         user_input = Input(shape=(1,))\n",
        "#         user_embedding = Embedding(num_users, embedding_size, input_length=1)(user_input)\n",
        "#         user_vec = Flatten()(user_embedding)\n",
        "\n",
        "#         item_input = Input(shape=(1,))\n",
        "#         item_embedding = Embedding(num_items, embedding_size, input_length=1)(item_input)\n",
        "#         item_vec = Flatten()(item_embedding)\n",
        "\n",
        "#         dot = Dot(axes=1)([user_vec, item_vec])\n",
        "#         self.model = Model(inputs=[user_input, item_input], outputs=dot)\n",
        "\n",
        "#     def call(self, inputs):\n",
        "#         return self.model(inputs)\n",
        "\n",
        "#     def get_config(self):\n",
        "#         return {\n",
        "#             'num_users': self.num_users,\n",
        "#             'num_items': self.num_items,\n",
        "#             'embedding_size': self.embedding_size\n",
        "#         }"
      ],
      "metadata": {
        "id": "P4IWMT4qPEVL"
      },
      "execution_count": null,
      "outputs": []
    },
    {
      "cell_type": "code",
      "source": [
        "# # Instantiate and compile the model\n",
        "# max_userid = ratings['userId'].drop_duplicates().max()\n",
        "# max_movieid = ratings['movieId'].drop_duplicates().max()\n",
        "# cf_model = CFModel(num_users=max_userid+1, num_items=max_movieid+1, embedding_size=K_FACTORS)"
      ],
      "metadata": {
        "id": "80u2SUDZPA3s"
      },
      "execution_count": null,
      "outputs": []
    },
    {
      "cell_type": "code",
      "source": [
        "# # Compile the model using MSE as the loss function and the Adam optimizer\n",
        "# cf_model.compile(loss='mse', optimizer='adam')"
      ],
      "metadata": {
        "id": "SvzFZnUHPWI7"
      },
      "execution_count": null,
      "outputs": []
    },
    {
      "cell_type": "code",
      "source": [
        "# # Callbacks\n",
        "# callbacks = [\n",
        "#     EarlyStopping(patience=2),\n",
        "#     ModelCheckpoint('cfModel_weights', save_best_only=True, save_format='tf')\n",
        "# ]"
      ],
      "metadata": {
        "id": "N0urQwZUnsoX"
      },
      "execution_count": null,
      "outputs": []
    },
    {
      "cell_type": "code",
      "source": [
        "# # Train the model\n",
        "# cf_model.fit([Users, Movies], Ratings, epochs=5, batch_size=64,\n",
        "#              validation_split=0.2, callbacks=callbacks)"
      ],
      "metadata": {
        "colab": {
          "base_uri": "https://localhost:8080/"
        },
        "id": "MupzSl-pPZA_",
        "outputId": "9d3cac28-13bb-450e-d607-9d5043bc7457"
      },
      "execution_count": null,
      "outputs": [
        {
          "output_type": "stream",
          "name": "stdout",
          "text": [
            "Epoch 1/5\n",
            "1261/1261 [==============================] - 12s 10ms/step - loss: 0.4801 - val_loss: 1.2715\n",
            "Epoch 2/5\n",
            "1261/1261 [==============================] - 10s 8ms/step - loss: 0.3880 - val_loss: 1.2777\n",
            "Epoch 3/5\n",
            "1261/1261 [==============================] - 10s 8ms/step - loss: 0.3104 - val_loss: 1.2843\n"
          ]
        },
        {
          "output_type": "execute_result",
          "data": {
            "text/plain": [
              "<keras.src.callbacks.History at 0x7f6f98289300>"
            ]
          },
          "metadata": {},
          "execution_count": 92
        }
      ]
    },
    {
      "cell_type": "code",
      "source": [
        "# cf_model.save('cf_model_final.tf')\n",
        "\n",
        "# # Save the architecture of the model to a JSON file\n",
        "# model_json = cf_model.to_json()\n",
        "# with open(\"cf_model_final.json\", \"w\") as json_file:\n",
        "#     json_file.write(model_json)\n",
        "# print(\"Model architecture saved to JSON.\")"
      ],
      "metadata": {
        "id": "kK4yqLnFossx"
      },
      "execution_count": null,
      "outputs": []
    },
    {
      "cell_type": "code",
      "source": [
        "# Function to get top-N recommendations for a user\n",
        "def get_user_based_recommendations(user_id, num_recommendations=10):\n",
        "    all_movie_ids = np.array([movie_id for movie_id in range(1, max_movieid+1)])\n",
        "    predicted_ratings = cf_model.predict([np.array([user_id] * len(all_movie_ids)), all_movie_ids])\n",
        "    top_indices = np.argsort(predicted_ratings.flatten())[::-1][:num_recommendations]\n",
        "    recommended_movie_ids = all_movie_ids[top_indices]\n",
        "    recommended_movies = movies[movies['movieId'].isin(recommended_movie_ids)]\n",
        "    return recommended_movies"
      ],
      "metadata": {
        "id": "IW3T4TBoPb2u"
      },
      "execution_count": 24,
      "outputs": []
    },
    {
      "cell_type": "code",
      "source": [
        "# For test\n",
        "user_id = 3\n",
        "recommendations = get_user_based_recommendations(user_id, num_recommendations=10)\n",
        "print(recommendations)"
      ],
      "metadata": {
        "colab": {
          "base_uri": "https://localhost:8080/"
        },
        "id": "gWf5PwB5WFXw",
        "outputId": "0c36bb98-bfcb-46b9-b8ee-71775a74017e"
      },
      "execution_count": 29,
      "outputs": [
        {
          "output_type": "stream",
          "name": "stdout",
          "text": [
            "6051/6051 [==============================] - 11s 2ms/step\n",
            "      movieId                                              title  \\\n",
            "1190     1587                         Conan the Barbarian (1982)   \n",
            "2280     3024                                     Piranha (1978)   \n",
            "2765     3703                The Road Warrior (Mad Max 2) (1981)   \n",
            "3734     5181                                   Hangar 18 (1980)   \n",
            "4045     5746                    Galaxy of Terror (Quest) (1981)   \n",
            "4050     5764                                      Looker (1981)   \n",
            "4122     5919                                     Android (1982)   \n",
            "5052     7899  Master of the Flying Guillotine (Du bi quan wa...   \n",
            "5504    26409                           The Clonus Horror (1979)   \n",
            "7114    70946                                     Troll 2 (1990)   \n",
            "\n",
            "                                genres  \n",
            "1190          Action|Adventure|Fantasy  \n",
            "2280                     Horror|Sci-Fi  \n",
            "2765  Action|Adventure|Sci-Fi|Thriller  \n",
            "3734            Action|Sci-Fi|Thriller  \n",
            "4045      Action|Horror|Mystery|Sci-Fi  \n",
            "4050      Drama|Horror|Sci-Fi|Thriller  \n",
            "4122                            Sci-Fi  \n",
            "5052                            Action  \n",
            "5504                     Horror|Sci-Fi  \n",
            "7114                    Fantasy|Horror  \n"
          ]
        }
      ]
    },
    {
      "cell_type": "markdown",
      "source": [
        "# Evaluation"
      ],
      "metadata": {
        "id": "MBhSm7Y9WWlA"
      }
    },
    {
      "cell_type": "code",
      "source": [
        "# Split the data into training and testing sets\n",
        "train_data, test_data = train_test_split(ratings, test_size=0.2, random_state=42)\n",
        "\n",
        "# Prepare the test data for evaluation\n",
        "test_users = test_data['userId'].values\n",
        "test_movies = test_data['movieId'].values\n",
        "test_ratings = test_data['rating'].values"
      ],
      "metadata": {
        "id": "tmmQn2IvWQnN"
      },
      "execution_count": 30,
      "outputs": []
    },
    {
      "cell_type": "code",
      "source": [
        "# Predict ratings for the test set\n",
        "predicted_test_ratings = cf_model.predict([test_users, test_movies])\n",
        "\n",
        "# Calculate RMSE\n",
        "rmse = np.sqrt(mean_squared_error(test_ratings, predicted_test_ratings))\n",
        "rmse"
      ],
      "metadata": {
        "colab": {
          "base_uri": "https://localhost:8080/"
        },
        "id": "-2bxeu68cvw-",
        "outputId": "05490106-9cf4-4d64-b536-4f54d97d0733"
      },
      "execution_count": 31,
      "outputs": [
        {
          "output_type": "stream",
          "name": "stdout",
          "text": [
            "631/631 [==============================] - 1s 2ms/step\n"
          ]
        },
        {
          "output_type": "execute_result",
          "data": {
            "text/plain": [
              "0.4302523436503343"
            ]
          },
          "metadata": {},
          "execution_count": 31
        }
      ]
    },
    {
      "cell_type": "markdown",
      "source": [
        "# Deeper Model"
      ],
      "metadata": {
        "id": "jm3CKzk-hi1i"
      }
    },
    {
      "cell_type": "code",
      "source": [
        "# Instantiate the deeper model\n",
        "num_users = max_userid + 1\n",
        "num_items = max_movieid + 1"
      ],
      "metadata": {
        "id": "D7-wi2t9hlZC"
      },
      "execution_count": 32,
      "outputs": []
    },
    {
      "cell_type": "code",
      "source": [
        "# Define constants\n",
        "K_FACTORS = 100"
      ],
      "metadata": {
        "id": "tzhm2TkG0OT6"
      },
      "execution_count": null,
      "outputs": []
    },
    {
      "cell_type": "code",
      "source": [
        "# Define the model\n",
        "user_input = Input(shape=(1,), name='user_input')\n",
        "user_embedding = Embedding(num_users, K_FACTORS, input_length=1, name='user_embedding')(user_input)\n",
        "user_vec = Flatten(name='user_flatten')(user_embedding)\n",
        "item_input = Input(shape=(1,), name='item_input')\n",
        "item_embedding = Embedding(num_items, K_FACTORS, input_length=1, name='item_embedding')(item_input)\n",
        "item_vec = Flatten(name='item_flatten')(item_embedding)\n",
        "concat = Concatenate()([user_vec, item_vec])\n",
        "dense = Dense(128, activation='relu')(concat)\n",
        "dropout = Dropout(0.5)(dense)\n",
        "dense = Dense(64, activation='relu')(dropout)\n",
        "dropout = Dropout(0.5)(dense)\n",
        "dense = Dense(32, activation='relu')(dropout)\n",
        "dropout = Dropout(0.5)(dense)\n",
        "output = Dense(1, name='output')(dropout)\n",
        "\n",
        "deep_cf_model = Model(inputs=[user_input, item_input], outputs=output)\n",
        "deep_cf_model.compile(optimizer='adam', loss='mse')"
      ],
      "metadata": {
        "id": "rsQMTl0Z0d3w"
      },
      "execution_count": null,
      "outputs": []
    },
    {
      "cell_type": "code",
      "source": [
        "# Train the model\n",
        "deep_cf_model.fit([Users, Movies], Ratings, epochs=10, batch_size=64, validation_split=0.2,\n",
        "                  callbacks=[EarlyStopping(patience=2), ModelCheckpoint('deep_model.h5', save_best_only=True)])\n",
        "\n",
        "# Save the model architecture to a JSON file\n",
        "model_json = deep_cf_model.to_json()\n",
        "with open(\"user_based_recommendation_model.json\", \"w\") as json_file:\n",
        "    json_file.write(model_json)\n",
        "\n",
        "# Save the model weights to an HDF5 file\n",
        "deep_cf_model.save_weights(\"user_based_recommendation_model_weights.h5\")\n",
        "\n",
        "# Download the model architecture and weights files\n",
        "files.download('user_based_recommendation_model.json')\n",
        "files.download('user_based_recommendation_model_weights.h5')\n",
        "\n",
        "# # Function to get top-N recommendations for a user\n",
        "# def get_user_based_recommendations(user_id, num_recommendations=10, model=deep_cf_model):\n",
        "#     all_movie_ids = np.array([movie_id for movie_id in range(1, max_movieid+1)])\n",
        "#     predicted_ratings = model.predict([np.array([user_id] * len(all_movie_ids)), all_movie_ids])\n",
        "#     top_indices = np.argsort(predicted_ratings.flatten())[::-1][:num_recommendations]\n",
        "#     recommended_movie_ids = all_movie_ids[top_indices]\n",
        "#     recommended_movies = movies[movies['movieId'].isin(recommended_movie_ids)]\n",
        "#     return recommended_movies\n",
        "\n",
        "\n",
        "# user_id = 1\n",
        "# recommendations = get_user_based_recommendations(user_id, num_recommendations=10)\n",
        "# print(recommendations)"
      ],
      "metadata": {
        "colab": {
          "base_uri": "https://localhost:8080/",
          "height": 1000
        },
        "id": "w4i2BEL19Zqh",
        "outputId": "dbc9ba4d-b7bc-44db-8731-cd6327bd4a59"
      },
      "execution_count": 33,
      "outputs": [
        {
          "output_type": "stream",
          "name": "stdout",
          "text": [
            "Epoch 1/10\n",
            "1261/1261 [==============================] - ETA: 0s - loss: 2.0682"
          ]
        },
        {
          "output_type": "stream",
          "name": "stderr",
          "text": [
            "/usr/local/lib/python3.10/dist-packages/keras/src/engine/training.py:3103: UserWarning: You are saving your model as an HDF5 file via `model.save()`. This file format is considered legacy. We recommend using instead the native Keras format, e.g. `model.save('my_model.keras')`.\n",
            "  saving_api.save_model(\n"
          ]
        },
        {
          "output_type": "stream",
          "name": "stdout",
          "text": [
            "\b\b\b\b\b\b\b\b\b\b\b\b\b\b\b\b\b\b\b\b\b\b\b\b\b\b\b\b\b\b\b\b\b\b\b\b\b\b\b\b\b\b\b\b\b\b\b\b\b\b\b\b\b\b\b\b\b\b\b\b\b\b\b\b\b\b\b\r1261/1261 [==============================] - 19s 12ms/step - loss: 2.0682 - val_loss: 0.8690\n",
            "Epoch 2/10\n",
            "1261/1261 [==============================] - 13s 10ms/step - loss: 1.2855 - val_loss: 0.8120\n",
            "Epoch 3/10\n",
            "1261/1261 [==============================] - 12s 10ms/step - loss: 1.0237 - val_loss: 0.8018\n",
            "Epoch 4/10\n",
            "1261/1261 [==============================] - 14s 11ms/step - loss: 0.8609 - val_loss: 0.7802\n",
            "Epoch 5/10\n",
            "1261/1261 [==============================] - 13s 10ms/step - loss: 0.7616 - val_loss: 0.7773\n",
            "Epoch 6/10\n",
            "1261/1261 [==============================] - 12s 9ms/step - loss: 0.6993 - val_loss: 0.7718\n",
            "Epoch 7/10\n",
            "1261/1261 [==============================] - 12s 9ms/step - loss: 0.6543 - val_loss: 0.7768\n",
            "Epoch 8/10\n",
            "1261/1261 [==============================] - 12s 9ms/step - loss: 0.6216 - val_loss: 0.7819\n"
          ]
        },
        {
          "output_type": "display_data",
          "data": {
            "text/plain": [
              "<IPython.core.display.Javascript object>"
            ],
            "application/javascript": [
              "\n",
              "    async function download(id, filename, size) {\n",
              "      if (!google.colab.kernel.accessAllowed) {\n",
              "        return;\n",
              "      }\n",
              "      const div = document.createElement('div');\n",
              "      const label = document.createElement('label');\n",
              "      label.textContent = `Downloading \"${filename}\": `;\n",
              "      div.appendChild(label);\n",
              "      const progress = document.createElement('progress');\n",
              "      progress.max = size;\n",
              "      div.appendChild(progress);\n",
              "      document.body.appendChild(div);\n",
              "\n",
              "      const buffers = [];\n",
              "      let downloaded = 0;\n",
              "\n",
              "      const channel = await google.colab.kernel.comms.open(id);\n",
              "      // Send a message to notify the kernel that we're ready.\n",
              "      channel.send({})\n",
              "\n",
              "      for await (const message of channel.messages) {\n",
              "        // Send a message to notify the kernel that we're ready.\n",
              "        channel.send({})\n",
              "        if (message.buffers) {\n",
              "          for (const buffer of message.buffers) {\n",
              "            buffers.push(buffer);\n",
              "            downloaded += buffer.byteLength;\n",
              "            progress.value = downloaded;\n",
              "          }\n",
              "        }\n",
              "      }\n",
              "      const blob = new Blob(buffers, {type: 'application/binary'});\n",
              "      const a = document.createElement('a');\n",
              "      a.href = window.URL.createObjectURL(blob);\n",
              "      a.download = filename;\n",
              "      div.appendChild(a);\n",
              "      a.click();\n",
              "      div.remove();\n",
              "    }\n",
              "  "
            ]
          },
          "metadata": {}
        },
        {
          "output_type": "display_data",
          "data": {
            "text/plain": [
              "<IPython.core.display.Javascript object>"
            ],
            "application/javascript": [
              "download(\"download_bab7169f-af99-410e-a3c5-660782f94896\", \"user_based_recommendation_model.json\", 6692)"
            ]
          },
          "metadata": {}
        },
        {
          "output_type": "display_data",
          "data": {
            "text/plain": [
              "<IPython.core.display.Javascript object>"
            ],
            "application/javascript": [
              "\n",
              "    async function download(id, filename, size) {\n",
              "      if (!google.colab.kernel.accessAllowed) {\n",
              "        return;\n",
              "      }\n",
              "      const div = document.createElement('div');\n",
              "      const label = document.createElement('label');\n",
              "      label.textContent = `Downloading \"${filename}\": `;\n",
              "      div.appendChild(label);\n",
              "      const progress = document.createElement('progress');\n",
              "      progress.max = size;\n",
              "      div.appendChild(progress);\n",
              "      document.body.appendChild(div);\n",
              "\n",
              "      const buffers = [];\n",
              "      let downloaded = 0;\n",
              "\n",
              "      const channel = await google.colab.kernel.comms.open(id);\n",
              "      // Send a message to notify the kernel that we're ready.\n",
              "      channel.send({})\n",
              "\n",
              "      for await (const message of channel.messages) {\n",
              "        // Send a message to notify the kernel that we're ready.\n",
              "        channel.send({})\n",
              "        if (message.buffers) {\n",
              "          for (const buffer of message.buffers) {\n",
              "            buffers.push(buffer);\n",
              "            downloaded += buffer.byteLength;\n",
              "            progress.value = downloaded;\n",
              "          }\n",
              "        }\n",
              "      }\n",
              "      const blob = new Blob(buffers, {type: 'application/binary'});\n",
              "      const a = document.createElement('a');\n",
              "      a.href = window.URL.createObjectURL(blob);\n",
              "      a.download = filename;\n",
              "      div.appendChild(a);\n",
              "      a.click();\n",
              "      div.remove();\n",
              "    }\n",
              "  "
            ]
          },
          "metadata": {}
        },
        {
          "output_type": "display_data",
          "data": {
            "text/plain": [
              "<IPython.core.display.Javascript object>"
            ],
            "application/javascript": [
              "download(\"download_a76bce7f-acc7-472b-96de-a0c51e413989\", \"user_based_recommendation_model_weights.h5\", 77863696)"
            ]
          },
          "metadata": {}
        },
        {
          "output_type": "stream",
          "name": "stdout",
          "text": [
            "6051/6051 [==============================] - 12s 2ms/step\n",
            "      movieId                                              title  \\\n",
            "87         99               Heidi Fleiss: Hollywood Madam (1995)   \n",
            "1649     2202                                    Lifeboat (1944)   \n",
            "3608     4956                               The Stunt Man (1980)   \n",
            "4396     6460                      The Trial (Procès, Le) (1962)   \n",
            "4504     6666  The Discreet Charm of the Bourgeoisie (Charme ...   \n",
            "4782     7121                                  Adam's Rib (1949)   \n",
            "5489    26326     The Holy Mountain (Montaña sagrada, La) (1973)   \n",
            "5580    26810                               Bad Boy Bubby (1993)   \n",
            "5848    32582          The Wild Parrots of Telegraph Hill (2003)   \n",
            "9514   171495                                             Cosmos   \n",
            "\n",
            "                                              genres  \n",
            "87                                       Documentary  \n",
            "1649                                       Drama|War  \n",
            "3608  Action|Adventure|Comedy|Drama|Romance|Thriller  \n",
            "4396                                           Drama  \n",
            "4504                            Comedy|Drama|Fantasy  \n",
            "4782                                  Comedy|Romance  \n",
            "5489                                           Drama  \n",
            "5580                                           Drama  \n",
            "5848                                     Documentary  \n",
            "9514                              (no genres listed)  \n",
            "631/631 [==============================] - 1s 2ms/step\n",
            "RMSE: 0.7162030846048772\n",
            "{'name': 'model_2', 'trainable': True, 'layers': [{'module': 'keras.layers', 'class_name': 'InputLayer', 'config': {'batch_input_shape': (None, 1), 'dtype': 'float32', 'sparse': False, 'ragged': False, 'name': 'user_input'}, 'registered_name': None, 'name': 'user_input', 'inbound_nodes': []}, {'module': 'keras.layers', 'class_name': 'InputLayer', 'config': {'batch_input_shape': (None, 1), 'dtype': 'float32', 'sparse': False, 'ragged': False, 'name': 'item_input'}, 'registered_name': None, 'name': 'item_input', 'inbound_nodes': []}, {'module': 'keras.layers', 'class_name': 'Embedding', 'config': {'name': 'user_embedding', 'trainable': True, 'dtype': 'float32', 'batch_input_shape': (None, 1), 'input_dim': 611, 'output_dim': 100, 'embeddings_initializer': {'module': 'keras.initializers', 'class_name': 'RandomUniform', 'config': {'minval': -0.05, 'maxval': 0.05, 'seed': None}, 'registered_name': None}, 'embeddings_regularizer': None, 'activity_regularizer': None, 'embeddings_constraint': None, 'mask_zero': False, 'input_length': 1}, 'registered_name': None, 'build_config': {'input_shape': (None, 1)}, 'name': 'user_embedding', 'inbound_nodes': [[['user_input', 0, 0, {}]]]}, {'module': 'keras.layers', 'class_name': 'Embedding', 'config': {'name': 'item_embedding', 'trainable': True, 'dtype': 'float32', 'batch_input_shape': (None, 1), 'input_dim': 193610, 'output_dim': 100, 'embeddings_initializer': {'module': 'keras.initializers', 'class_name': 'RandomUniform', 'config': {'minval': -0.05, 'maxval': 0.05, 'seed': None}, 'registered_name': None}, 'embeddings_regularizer': None, 'activity_regularizer': None, 'embeddings_constraint': None, 'mask_zero': False, 'input_length': 1}, 'registered_name': None, 'build_config': {'input_shape': (None, 1)}, 'name': 'item_embedding', 'inbound_nodes': [[['item_input', 0, 0, {}]]]}, {'module': 'keras.layers', 'class_name': 'Flatten', 'config': {'name': 'user_flatten', 'trainable': True, 'dtype': 'float32', 'data_format': 'channels_last'}, 'registered_name': None, 'build_config': {'input_shape': (None, 1, 100)}, 'name': 'user_flatten', 'inbound_nodes': [[['user_embedding', 0, 0, {}]]]}, {'module': 'keras.layers', 'class_name': 'Flatten', 'config': {'name': 'item_flatten', 'trainable': True, 'dtype': 'float32', 'data_format': 'channels_last'}, 'registered_name': None, 'build_config': {'input_shape': (None, 1, 100)}, 'name': 'item_flatten', 'inbound_nodes': [[['item_embedding', 0, 0, {}]]]}, {'module': 'keras.layers', 'class_name': 'Concatenate', 'config': {'name': 'concatenate', 'trainable': True, 'dtype': 'float32', 'axis': -1}, 'registered_name': None, 'build_config': {'input_shape': [(None, 100), (None, 100)]}, 'name': 'concatenate', 'inbound_nodes': [[['user_flatten', 0, 0, {}], ['item_flatten', 0, 0, {}]]]}, {'module': 'keras.layers', 'class_name': 'Dense', 'config': {'name': 'dense', 'trainable': True, 'dtype': 'float32', 'units': 128, 'activation': 'relu', 'use_bias': True, 'kernel_initializer': {'module': 'keras.initializers', 'class_name': 'GlorotUniform', 'config': {'seed': None}, 'registered_name': None}, 'bias_initializer': {'module': 'keras.initializers', 'class_name': 'Zeros', 'config': {}, 'registered_name': None}, 'kernel_regularizer': None, 'bias_regularizer': None, 'activity_regularizer': None, 'kernel_constraint': None, 'bias_constraint': None}, 'registered_name': None, 'build_config': {'input_shape': (None, 200)}, 'name': 'dense', 'inbound_nodes': [[['concatenate', 0, 0, {}]]]}, {'module': 'keras.layers', 'class_name': 'Dropout', 'config': {'name': 'dropout', 'trainable': True, 'dtype': 'float32', 'rate': 0.5, 'noise_shape': None, 'seed': None}, 'registered_name': None, 'build_config': {'input_shape': (None, 128)}, 'name': 'dropout', 'inbound_nodes': [[['dense', 0, 0, {}]]]}, {'module': 'keras.layers', 'class_name': 'Dense', 'config': {'name': 'dense_1', 'trainable': True, 'dtype': 'float32', 'units': 64, 'activation': 'relu', 'use_bias': True, 'kernel_initializer': {'module': 'keras.initializers', 'class_name': 'GlorotUniform', 'config': {'seed': None}, 'registered_name': None}, 'bias_initializer': {'module': 'keras.initializers', 'class_name': 'Zeros', 'config': {}, 'registered_name': None}, 'kernel_regularizer': None, 'bias_regularizer': None, 'activity_regularizer': None, 'kernel_constraint': None, 'bias_constraint': None}, 'registered_name': None, 'build_config': {'input_shape': (None, 128)}, 'name': 'dense_1', 'inbound_nodes': [[['dropout', 0, 0, {}]]]}, {'module': 'keras.layers', 'class_name': 'Dropout', 'config': {'name': 'dropout_1', 'trainable': True, 'dtype': 'float32', 'rate': 0.5, 'noise_shape': None, 'seed': None}, 'registered_name': None, 'build_config': {'input_shape': (None, 64)}, 'name': 'dropout_1', 'inbound_nodes': [[['dense_1', 0, 0, {}]]]}, {'module': 'keras.layers', 'class_name': 'Dense', 'config': {'name': 'dense_2', 'trainable': True, 'dtype': 'float32', 'units': 32, 'activation': 'relu', 'use_bias': True, 'kernel_initializer': {'module': 'keras.initializers', 'class_name': 'GlorotUniform', 'config': {'seed': None}, 'registered_name': None}, 'bias_initializer': {'module': 'keras.initializers', 'class_name': 'Zeros', 'config': {}, 'registered_name': None}, 'kernel_regularizer': None, 'bias_regularizer': None, 'activity_regularizer': None, 'kernel_constraint': None, 'bias_constraint': None}, 'registered_name': None, 'build_config': {'input_shape': (None, 64)}, 'name': 'dense_2', 'inbound_nodes': [[['dropout_1', 0, 0, {}]]]}, {'module': 'keras.layers', 'class_name': 'Dropout', 'config': {'name': 'dropout_2', 'trainable': True, 'dtype': 'float32', 'rate': 0.5, 'noise_shape': None, 'seed': None}, 'registered_name': None, 'build_config': {'input_shape': (None, 32)}, 'name': 'dropout_2', 'inbound_nodes': [[['dense_2', 0, 0, {}]]]}, {'module': 'keras.layers', 'class_name': 'Dense', 'config': {'name': 'output', 'trainable': True, 'dtype': 'float32', 'units': 1, 'activation': 'linear', 'use_bias': True, 'kernel_initializer': {'module': 'keras.initializers', 'class_name': 'GlorotUniform', 'config': {'seed': None}, 'registered_name': None}, 'bias_initializer': {'module': 'keras.initializers', 'class_name': 'Zeros', 'config': {}, 'registered_name': None}, 'kernel_regularizer': None, 'bias_regularizer': None, 'activity_regularizer': None, 'kernel_constraint': None, 'bias_constraint': None}, 'registered_name': None, 'build_config': {'input_shape': (None, 32)}, 'name': 'output', 'inbound_nodes': [[['dropout_2', 0, 0, {}]]]}], 'input_layers': [['user_input', 0, 0], ['item_input', 0, 0]], 'output_layers': [['output', 0, 0]]}\n",
            "6051/6051 [==============================] - 12s 2ms/step\n",
            "      movieId                                              title  \\\n",
            "87         99               Heidi Fleiss: Hollywood Madam (1995)   \n",
            "1649     2202                                    Lifeboat (1944)   \n",
            "3608     4956                               The Stunt Man (1980)   \n",
            "4396     6460                      The Trial (Procès, Le) (1962)   \n",
            "4504     6666  The Discreet Charm of the Bourgeoisie (Charme ...   \n",
            "4782     7121                                  Adam's Rib (1949)   \n",
            "5489    26326     The Holy Mountain (Montaña sagrada, La) (1973)   \n",
            "5580    26810                               Bad Boy Bubby (1993)   \n",
            "5848    32582          The Wild Parrots of Telegraph Hill (2003)   \n",
            "9514   171495                                             Cosmos   \n",
            "\n",
            "                                              genres  \n",
            "87                                       Documentary  \n",
            "1649                                       Drama|War  \n",
            "3608  Action|Adventure|Comedy|Drama|Romance|Thriller  \n",
            "4396                                           Drama  \n",
            "4504                            Comedy|Drama|Fantasy  \n",
            "4782                                  Comedy|Romance  \n",
            "5489                                           Drama  \n",
            "5580                                           Drama  \n",
            "5848                                     Documentary  \n",
            "9514                              (no genres listed)  \n"
          ]
        }
      ]
    },
    {
      "cell_type": "code",
      "source": [
        "# Function to get top-N recommendations for a user\n",
        "def get_user_based_recommendations(user_id, num_recommendations=10):\n",
        "    all_movie_ids = np.array([movie_id for movie_id in range(1, max_movieid+1)])\n",
        "    predicted_ratings = deep_cf_model.predict([np.array([user_id] * len(all_movie_ids)), all_movie_ids])\n",
        "    top_indices = np.argsort(predicted_ratings.flatten())[::-1][:num_recommendations]\n",
        "    recommended_movie_ids = all_movie_ids[top_indices]\n",
        "    recommended_movies = movies[movies['movieId'].isin(recommended_movie_ids)]\n",
        "    return recommended_movies"
      ],
      "metadata": {
        "id": "mBDzEdOAlVO-"
      },
      "execution_count": 34,
      "outputs": []
    },
    {
      "cell_type": "code",
      "source": [
        "user_id = 3\n",
        "recommendations = get_user_based_recommendations(user_id, num_recommendations=10)\n",
        "print(recommendations)"
      ],
      "metadata": {
        "colab": {
          "base_uri": "https://localhost:8080/"
        },
        "id": "OPHDG2Wrkj0t",
        "outputId": "55488a07-a5a3-4687-e82e-e3b4a72320e0"
      },
      "execution_count": 35,
      "outputs": [
        {
          "output_type": "stream",
          "name": "stdout",
          "text": [
            "6051/6051 [==============================] - 12s 2ms/step\n",
            "      movieId                                              title  \\\n",
            "87         99               Heidi Fleiss: Hollywood Madam (1995)   \n",
            "2206     2931        Time of the Gypsies (Dom za vesanje) (1989)   \n",
            "2453     3266  Man Bites Dog (C'est arrivé près de chez vous)...   \n",
            "4050     5764                                      Looker (1981)   \n",
            "4396     6460                      The Trial (Procès, Le) (1962)   \n",
            "5489    26326     The Holy Mountain (Montaña sagrada, La) (1973)   \n",
            "5580    26810                               Bad Boy Bubby (1993)   \n",
            "5848    32582          The Wild Parrots of Telegraph Hill (2003)   \n",
            "6954    65642             Timecrimes (Cronocrímenes, Los) (2007)   \n",
            "9301   158966                           Captain Fantastic (2016)   \n",
            "\n",
            "                            genres  \n",
            "87                     Documentary  \n",
            "2206    Comedy|Crime|Drama|Fantasy  \n",
            "2453   Comedy|Crime|Drama|Thriller  \n",
            "4050  Drama|Horror|Sci-Fi|Thriller  \n",
            "4396                         Drama  \n",
            "5489                         Drama  \n",
            "5580                         Drama  \n",
            "5848                   Documentary  \n",
            "6954               Sci-Fi|Thriller  \n",
            "9301                         Drama  \n"
          ]
        }
      ]
    },
    {
      "cell_type": "code",
      "source": [
        "train_data, test_data = train_test_split(ratings, test_size=0.2, random_state=42)"
      ],
      "metadata": {
        "id": "hFWIckpdkQit"
      },
      "execution_count": 36,
      "outputs": []
    },
    {
      "cell_type": "code",
      "source": [
        "# Prepare the test data for evaluation\n",
        "test_users = test_data['userId'].values\n",
        "test_movies = test_data['movieId'].values\n",
        "test_ratings = test_data['rating'].values"
      ],
      "metadata": {
        "id": "2S4ZrS7MlfV8"
      },
      "execution_count": 37,
      "outputs": []
    },
    {
      "cell_type": "code",
      "source": [
        "predicted_test_ratings = deep_cf_model.predict([test_users, test_movies])"
      ],
      "metadata": {
        "colab": {
          "base_uri": "https://localhost:8080/"
        },
        "id": "JHkdl3ctlim1",
        "outputId": "76de89b7-a4b4-4134-ce25-342fddbaf505"
      },
      "execution_count": 38,
      "outputs": [
        {
          "output_type": "stream",
          "name": "stdout",
          "text": [
            "631/631 [==============================] - 1s 2ms/step\n"
          ]
        }
      ]
    },
    {
      "cell_type": "code",
      "source": [
        "rmse = np.sqrt(mean_squared_error(test_ratings, predicted_test_ratings))\n",
        "print(f'RMSE: {rmse}')"
      ],
      "metadata": {
        "colab": {
          "base_uri": "https://localhost:8080/"
        },
        "id": "h_YJDpXRjXUK",
        "outputId": "069268a8-088a-41d0-e38d-5344922d69ec"
      },
      "execution_count": 39,
      "outputs": [
        {
          "output_type": "stream",
          "name": "stdout",
          "text": [
            "RMSE: 0.7162030846048772\n"
          ]
        }
      ]
    }
  ]
}