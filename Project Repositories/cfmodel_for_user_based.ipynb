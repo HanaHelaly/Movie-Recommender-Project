{
  "nbformat": 4,
  "nbformat_minor": 0,
  "metadata": {
    "colab": {
      "provenance": [],
      "gpuType": "T4"
    },
    "kernelspec": {
      "name": "python3",
      "display_name": "Python 3"
    },
    "language_info": {
      "name": "python"
    },
    "accelerator": "GPU"
  },
  "cells": [
    {
      "cell_type": "markdown",
      "source": [
        "# Import Libraries"
      ],
      "metadata": {
        "id": "RE-ZrZIEHgYW"
      }
    },
    {
      "cell_type": "code",
      "source": [
        "import math\n",
        "import pandas as pd\n",
        "import numpy as np\n",
        "import matplotlib.pyplot as plt\n",
        "from sklearn.metrics.pairwise import cosine_similarity\n",
        "from sklearn.model_selection import train_test_split\n",
        "from sklearn.metrics import mean_squared_error\n",
        "from keras.models import Model\n",
        "from keras.layers import Embedding, Input, Flatten, Dot, Dense, Dropout, Concatenate\n",
        "from keras.callbacks import Callback, EarlyStopping, ModelCheckpoint\n",
        "import re"
      ],
      "metadata": {
        "id": "eP3MmoCMHfsN"
      },
      "execution_count": 15,
      "outputs": []
    },
    {
      "cell_type": "markdown",
      "source": [
        "# Load Datasets"
      ],
      "metadata": {
        "id": "OkJmb4PPObXj"
      }
    },
    {
      "cell_type": "code",
      "execution_count": 2,
      "metadata": {
        "id": "NbwPuhXbHApF"
      },
      "outputs": [],
      "source": [
        "movies = pd.read_csv('/content/drive/MyDrive/Recommender Dataset/Project/ml-latest-small/movies.csv')\n",
        "ratings = pd.read_csv('/content/drive/MyDrive/Recommender Dataset/Project/ml-latest-small/ratings.csv')"
      ]
    },
    {
      "cell_type": "markdown",
      "source": [
        "# Data Preprocessing"
      ],
      "metadata": {
        "id": "g6Odl063Ozc9"
      }
    },
    {
      "cell_type": "code",
      "source": [
        "def correct_movie_titles(movies):\n",
        "    def correct_title(title):\n",
        "        return re.sub(r'(.+), The$', r'The \\1', title)\n",
        "\n",
        "    movies['title'] = movies['title'].apply(correct_title)\n",
        "    return movies"
      ],
      "metadata": {
        "id": "gl4ZjPHifU0u"
      },
      "execution_count": 3,
      "outputs": []
    },
    {
      "cell_type": "code",
      "source": [
        "movies = correct_movie_titles(movies)"
      ],
      "metadata": {
        "id": "_m2jZursfXEW"
      },
      "execution_count": 4,
      "outputs": []
    },
    {
      "cell_type": "code",
      "source": [
        "has_duplicates = movies.duplicated().any()\n",
        "has_duplicates"
      ],
      "metadata": {
        "colab": {
          "base_uri": "https://localhost:8080/"
        },
        "id": "tjZBpZ5mfk6Z",
        "outputId": "807fcb5b-58f2-48fd-aeba-70df5840cf85"
      },
      "execution_count": 22,
      "outputs": [
        {
          "output_type": "execute_result",
          "data": {
            "text/plain": [
              "False"
            ]
          },
          "metadata": {},
          "execution_count": 22
        }
      ]
    },
    {
      "cell_type": "code",
      "source": [
        "# Get the maximum user and movie IDs\n",
        "max_userid = ratings['userId'].drop_duplicates().max()\n",
        "max_movieid = ratings['movieId'].drop_duplicates().max()"
      ],
      "metadata": {
        "id": "_swcu_NiOsVt"
      },
      "execution_count": 5,
      "outputs": []
    },
    {
      "cell_type": "code",
      "source": [
        "# Shuffle the data to ensure randomness\n",
        "shuffled_ratings = ratings.sample(frac=1., random_state=42)"
      ],
      "metadata": {
        "id": "Ij-9jPqJO2dd"
      },
      "execution_count": 6,
      "outputs": []
    },
    {
      "cell_type": "code",
      "source": [
        "# Extract users, movies, and ratings arrays\n",
        "Users = shuffled_ratings['userId'].values\n",
        "Movies = shuffled_ratings['movieId'].values\n",
        "Ratings = shuffled_ratings['rating'].values"
      ],
      "metadata": {
        "id": "5TeVz2VfO54u"
      },
      "execution_count": 11,
      "outputs": []
    },
    {
      "cell_type": "code",
      "source": [
        "# Define constants\n",
        "K_FACTORS = 100  # The number of latent factors for embeddings\n",
        "TEST_USER = 1"
      ],
      "metadata": {
        "id": "VK3QugV9O9OA"
      },
      "execution_count": 12,
      "outputs": []
    },
    {
      "cell_type": "markdown",
      "source": [
        "# Model"
      ],
      "metadata": {
        "id": "VB6Z6_UCPIMz"
      }
    },
    {
      "cell_type": "code",
      "source": [
        "class CFModel(Model):\n",
        "    def __init__(self, num_users, num_items, embedding_size):\n",
        "        # User embedding\n",
        "        user_input = Input(shape=(1,))\n",
        "        user_embedding = Embedding(num_users, embedding_size, input_length=1)(user_input)\n",
        "        user_vec = Flatten()(user_embedding)\n",
        "\n",
        "        # Item embedding\n",
        "        item_input = Input(shape=(1,))\n",
        "        item_embedding = Embedding(num_items, embedding_size, input_length=1)(item_input)\n",
        "        item_vec = Flatten()(item_embedding)\n",
        "\n",
        "        # Dot product of user and item embeddings to predict ratings\n",
        "        dot = Dot(axes=1)([user_vec, item_vec])\n",
        "\n",
        "        super().__init__(inputs=[user_input, item_input], outputs=dot)\n",
        "        self.compile(optimizer='adam', loss='mse')"
      ],
      "metadata": {
        "id": "P4IWMT4qPEVL"
      },
      "execution_count": 8,
      "outputs": []
    },
    {
      "cell_type": "code",
      "source": [
        "# Instantiate the model\n",
        "num_users = max_userid + 1\n",
        "num_items = max_movieid + 1\n",
        "cf_model = CFModel(num_users, num_items, K_FACTORS)"
      ],
      "metadata": {
        "id": "80u2SUDZPA3s"
      },
      "execution_count": 9,
      "outputs": []
    },
    {
      "cell_type": "code",
      "source": [
        "# Compile the model using MSE as the loss function and the Adam optimizer\n",
        "cf_model.compile(loss='mse', optimizer='adam')"
      ],
      "metadata": {
        "id": "SvzFZnUHPWI7"
      },
      "execution_count": 10,
      "outputs": []
    },
    {
      "cell_type": "code",
      "source": [
        "# Train the model\n",
        "cf_model.fit([Users, Movies], Ratings, epochs=5, batch_size=64, validation_split=0.2,\n",
        "             callbacks=[EarlyStopping(patience=2), ModelCheckpoint('model.h5', save_best_only=True)])"
      ],
      "metadata": {
        "colab": {
          "base_uri": "https://localhost:8080/"
        },
        "id": "MupzSl-pPZA_",
        "outputId": "0b0e527f-b108-48a1-e6b8-d9e6ab2ced2b"
      },
      "execution_count": 11,
      "outputs": [
        {
          "output_type": "stream",
          "name": "stdout",
          "text": [
            "Epoch 1/5\n",
            "1261/1261 [==============================] - ETA: 0s - loss: 9.3357"
          ]
        },
        {
          "output_type": "stream",
          "name": "stderr",
          "text": [
            "/usr/local/lib/python3.10/dist-packages/keras/src/engine/training.py:3103: UserWarning: You are saving your model as an HDF5 file via `model.save()`. This file format is considered legacy. We recommend using instead the native Keras format, e.g. `model.save('my_model.keras')`.\n",
            "  saving_api.save_model(\n"
          ]
        },
        {
          "output_type": "stream",
          "name": "stdout",
          "text": [
            "\b\b\b\b\b\b\b\b\b\b\b\b\b\b\b\b\b\b\b\b\b\b\b\b\b\b\b\b\b\b\b\b\b\b\b\b\b\b\b\b\b\b\b\b\b\b\b\b\b\b\b\b\b\b\b\b\b\b\b\b\b\b\b\b\b\b\b\r1261/1261 [==============================] - 653s 517ms/step - loss: 9.3357 - val_loss: 3.0267\n",
            "Epoch 2/5\n",
            "1261/1261 [==============================] - 675s 535ms/step - loss: 1.7668 - val_loss: 1.5807\n",
            "Epoch 3/5\n",
            "1261/1261 [==============================] - 676s 536ms/step - loss: 0.9956 - val_loss: 1.3589\n",
            "Epoch 4/5\n",
            "1261/1261 [==============================] - 676s 536ms/step - loss: 0.7421 - val_loss: 1.2932\n",
            "Epoch 5/5\n",
            "1261/1261 [==============================] - 654s 518ms/step - loss: 0.5860 - val_loss: 1.2733\n"
          ]
        },
        {
          "output_type": "execute_result",
          "data": {
            "text/plain": [
              "<keras.src.callbacks.History at 0x78105b942a10>"
            ]
          },
          "metadata": {},
          "execution_count": 11
        }
      ]
    },
    {
      "cell_type": "code",
      "source": [
        "# Function to get top-N recommendations for a user\n",
        "def get_user_based_recommendations(user_id, num_recommendations=10):\n",
        "    all_movie_ids = np.array([movie_id for movie_id in range(1, max_movieid+1)])\n",
        "    predicted_ratings = cf_model.predict([np.array([user_id] * len(all_movie_ids)), all_movie_ids])\n",
        "    top_indices = np.argsort(predicted_ratings.flatten())[::-1][:num_recommendations]\n",
        "    recommended_movie_ids = all_movie_ids[top_indices]\n",
        "    recommended_movies = movies[movies['movieId'].isin(recommended_movie_ids)]\n",
        "    return recommended_movies"
      ],
      "metadata": {
        "id": "IW3T4TBoPb2u"
      },
      "execution_count": 12,
      "outputs": []
    },
    {
      "cell_type": "code",
      "source": [
        "# For test\n",
        "user_id = 3\n",
        "recommendations = get_user_based_recommendations(user_id, num_recommendations=10)\n",
        "print(recommendations)"
      ],
      "metadata": {
        "colab": {
          "base_uri": "https://localhost:8080/"
        },
        "id": "gWf5PwB5WFXw",
        "outputId": "8b4a34a6-6bde-4caf-9697-a4fd162503f9"
      },
      "execution_count": 13,
      "outputs": [
        {
          "output_type": "stream",
          "name": "stdout",
          "text": [
            "6051/6051 [==============================] - 10s 2ms/step\n",
            "      movieId                                              title  \\\n",
            "974      1275                                  Highlander (1986)   \n",
            "1701     2288                                  Thing, The (1982)   \n",
            "2765     3703               Road Warrior, The (Mad Max 2) (1981)   \n",
            "3734     5181                                   Hangar 18 (1980)   \n",
            "4045     5746                    Galaxy of Terror (Quest) (1981)   \n",
            "4050     5764                                      Looker (1981)   \n",
            "4122     5919                                     Android (1982)   \n",
            "5052     7899  Master of the Flying Guillotine (Du bi quan wa...   \n",
            "5504    26409                          Clonus Horror, The (1979)   \n",
            "7114    70946                                     Troll 2 (1990)   \n",
            "\n",
            "                                genres  \n",
            "974           Action|Adventure|Fantasy  \n",
            "1701     Action|Horror|Sci-Fi|Thriller  \n",
            "2765  Action|Adventure|Sci-Fi|Thriller  \n",
            "3734            Action|Sci-Fi|Thriller  \n",
            "4045      Action|Horror|Mystery|Sci-Fi  \n",
            "4050      Drama|Horror|Sci-Fi|Thriller  \n",
            "4122                            Sci-Fi  \n",
            "5052                            Action  \n",
            "5504                     Horror|Sci-Fi  \n",
            "7114                    Fantasy|Horror  \n"
          ]
        }
      ]
    },
    {
      "cell_type": "markdown",
      "source": [
        "# Evaluation"
      ],
      "metadata": {
        "id": "MBhSm7Y9WWlA"
      }
    },
    {
      "cell_type": "code",
      "source": [
        "# Split the data into training and testing sets\n",
        "train_data, test_data = train_test_split(ratings, test_size=0.2, random_state=42)\n",
        "\n",
        "# Prepare the test data for evaluation\n",
        "test_users = test_data['userId'].values\n",
        "test_movies = test_data['movieId'].values\n",
        "test_ratings = test_data['rating'].values"
      ],
      "metadata": {
        "id": "tmmQn2IvWQnN"
      },
      "execution_count": 14,
      "outputs": []
    },
    {
      "cell_type": "code",
      "source": [
        "# Predict ratings for the test set\n",
        "predicted_test_ratings = cf_model.predict([test_users, test_movies])\n",
        "\n",
        "# Calculate RMSE\n",
        "rmse = np.sqrt(mean_squared_error(test_ratings, predicted_test_ratings))\n",
        "rmse"
      ],
      "metadata": {
        "colab": {
          "base_uri": "https://localhost:8080/"
        },
        "id": "-2bxeu68cvw-",
        "outputId": "3532b7fe-5433-4c1d-d7b4-f8b37ccf2e06"
      },
      "execution_count": 15,
      "outputs": [
        {
          "output_type": "stream",
          "name": "stdout",
          "text": [
            "631/631 [==============================] - 3s 5ms/step\n"
          ]
        },
        {
          "output_type": "execute_result",
          "data": {
            "text/plain": [
              "0.6713010405425375"
            ]
          },
          "metadata": {},
          "execution_count": 15
        }
      ]
    },
    {
      "cell_type": "markdown",
      "source": [
        "# Deeper Model"
      ],
      "metadata": {
        "id": "jm3CKzk-hi1i"
      }
    },
    {
      "cell_type": "code",
      "source": [
        "# Instantiate the deeper model\n",
        "num_users = max_userid + 1\n",
        "num_items = max_movieid + 1"
      ],
      "metadata": {
        "id": "D7-wi2t9hlZC"
      },
      "execution_count": 14,
      "outputs": []
    },
    {
      "cell_type": "code",
      "source": [
        "class DeepCFModel(Model):\n",
        "    def __init__(self, num_users, num_items, embedding_size):\n",
        "        # User embedding\n",
        "        user_input = Input(shape=(1,))\n",
        "        user_embedding = Embedding(num_users, embedding_size, input_length=1)(user_input)\n",
        "        user_vec = Flatten()(user_embedding)\n",
        "\n",
        "        # Item embedding\n",
        "        item_input = Input(shape=(1,))\n",
        "        item_embedding = Embedding(num_items, embedding_size, input_length=1)(item_input)\n",
        "        item_vec = Flatten()(item_embedding)\n",
        "\n",
        "        # Concatenate embeddings\n",
        "        concat = Concatenate()([user_vec, item_vec])\n",
        "\n",
        "        # Add dense layers with dropout\n",
        "        dense = Dense(128, activation='relu')(concat)\n",
        "        dropout = Dropout(0.5)(dense)\n",
        "        dense = Dense(64, activation='relu')(dropout)\n",
        "        dropout = Dropout(0.5)(dense)\n",
        "        dense = Dense(32, activation='relu')(dropout)\n",
        "        dropout = Dropout(0.5)(dense)\n",
        "\n",
        "        # Output layer\n",
        "        output = Dense(1)(dropout)\n",
        "\n",
        "        super().__init__(inputs=[user_input, item_input], outputs=output)\n",
        "        self.compile(optimizer='adam', loss='mse')\n"
      ],
      "metadata": {
        "id": "MXMqsKYggUw4"
      },
      "execution_count": 16,
      "outputs": []
    },
    {
      "cell_type": "code",
      "source": [
        "deep_cf_model = DeepCFModel(num_users, num_items, K_FACTORS)\n",
        "\n",
        "# Compile the model using MSE as the loss function and the Adam optimizer\n",
        "deep_cf_model.compile(loss='mse', optimizer='adam')\n",
        "\n",
        "# Train the model\n",
        "deep_cf_model.fit([Users, Movies], Ratings, epochs=10, batch_size=64, validation_split=0.2,\n",
        "                  callbacks=[EarlyStopping(patience=2), ModelCheckpoint('deep_model.h5', save_best_only=True)])\n"
      ],
      "metadata": {
        "colab": {
          "base_uri": "https://localhost:8080/"
        },
        "id": "_cuzauk3hDT8",
        "outputId": "032f1267-e0d9-4c43-e937-3a845918349c"
      },
      "execution_count": 17,
      "outputs": [
        {
          "output_type": "stream",
          "name": "stdout",
          "text": [
            "Epoch 1/10\n",
            "1261/1261 [==============================] - ETA: 0s - loss: 2.1466"
          ]
        },
        {
          "output_type": "stream",
          "name": "stderr",
          "text": [
            "/usr/local/lib/python3.10/dist-packages/keras/src/engine/training.py:3103: UserWarning: You are saving your model as an HDF5 file via `model.save()`. This file format is considered legacy. We recommend using instead the native Keras format, e.g. `model.save('my_model.keras')`.\n",
            "  saving_api.save_model(\n"
          ]
        },
        {
          "output_type": "stream",
          "name": "stdout",
          "text": [
            "\b\b\b\b\b\b\b\b\b\b\b\b\b\b\b\b\b\b\b\b\b\b\b\b\b\b\b\b\b\b\b\b\b\b\b\b\b\b\b\b\b\b\b\b\b\b\b\b\b\b\b\b\b\b\b\b\b\b\b\b\b\b\b\b\b\b\b\r1261/1261 [==============================] - 22s 13ms/step - loss: 2.1466 - val_loss: 0.8936\n",
            "Epoch 2/10\n",
            "1261/1261 [==============================] - 12s 10ms/step - loss: 1.2971 - val_loss: 0.8434\n",
            "Epoch 3/10\n",
            "1261/1261 [==============================] - 13s 10ms/step - loss: 1.0390 - val_loss: 0.7902\n",
            "Epoch 4/10\n",
            "1261/1261 [==============================] - 12s 10ms/step - loss: 0.8676 - val_loss: 0.7805\n",
            "Epoch 5/10\n",
            "1261/1261 [==============================] - 12s 10ms/step - loss: 0.7592 - val_loss: 0.7735\n",
            "Epoch 6/10\n",
            "1261/1261 [==============================] - 12s 10ms/step - loss: 0.6957 - val_loss: 0.7693\n",
            "Epoch 7/10\n",
            "1261/1261 [==============================] - 13s 10ms/step - loss: 0.6556 - val_loss: 0.7697\n",
            "Epoch 8/10\n",
            "1261/1261 [==============================] - 12s 9ms/step - loss: 0.6241 - val_loss: 0.7768\n"
          ]
        },
        {
          "output_type": "execute_result",
          "data": {
            "text/plain": [
              "<keras.src.callbacks.History at 0x7da50c0e9210>"
            ]
          },
          "metadata": {},
          "execution_count": 17
        }
      ]
    },
    {
      "cell_type": "code",
      "source": [
        "def get_user_based_recommendations(user_id, num_recommendations=10):\n",
        "    all_movie_ids = np.array([movie_id for movie_id in range(1, max_movieid+1)])\n",
        "    predicted_ratings = deep_cf_model.predict([np.array([user_id] * len(all_movie_ids)), all_movie_ids])\n",
        "    top_indices = np.argsort(predicted_ratings.flatten())[::-1][:num_recommendations]\n",
        "    recommended_movie_ids = all_movie_ids[top_indices]\n",
        "    recommended_movies = movies[movies['movieId'].isin(recommended_movie_ids)]\n",
        "    return recommended_movies"
      ],
      "metadata": {
        "id": "8blTOSOOir4_"
      },
      "execution_count": 19,
      "outputs": []
    },
    {
      "cell_type": "code",
      "source": [
        "recommendations = get_user_based_recommendations(user_id, num_recommendations=10)\n",
        "print(recommendations)"
      ],
      "metadata": {
        "colab": {
          "base_uri": "https://localhost:8080/",
          "height": 141
        },
        "id": "oKZffLOCgfLY",
        "outputId": "f52c8341-9020-4ae9-8bc5-e335a8af0d46"
      },
      "execution_count": 21,
      "outputs": [
        {
          "output_type": "error",
          "ename": "NameError",
          "evalue": "name 'recommendations' is not defined",
          "traceback": [
            "\u001b[0;31m---------------------------------------------------------------------------\u001b[0m",
            "\u001b[0;31mNameError\u001b[0m                                 Traceback (most recent call last)",
            "\u001b[0;32m<ipython-input-21-261081695195>\u001b[0m in \u001b[0;36m<cell line: 1>\u001b[0;34m()\u001b[0m\n\u001b[0;32m----> 1\u001b[0;31m \u001b[0mprint\u001b[0m\u001b[0;34m(\u001b[0m\u001b[0mrecommendations\u001b[0m\u001b[0;34m)\u001b[0m\u001b[0;34m\u001b[0m\u001b[0;34m\u001b[0m\u001b[0m\n\u001b[0m",
            "\u001b[0;31mNameError\u001b[0m: name 'recommendations' is not defined"
          ]
        }
      ]
    },
    {
      "cell_type": "code",
      "source": [
        "# Define constants\n",
        "K_FACTORS = 100  # The number of latent factors for embeddings\n",
        "TEST_USER = 1  # A random test user\n",
        "\n",
        "# Instantiate the deeper model\n",
        "num_users = max_userid + 1\n",
        "num_items = max_movieid + 1\n",
        "\n",
        "# Define the DeepCFModel class\n",
        "class DeepCFModel(Model):\n",
        "    def __init__(self, num_users, num_items, embedding_size):\n",
        "        # User embedding\n",
        "        user_input = Input(shape=(1,))\n",
        "        user_embedding = Embedding(num_users, embedding_size, input_length=1)(user_input)\n",
        "        user_vec = Flatten()(user_embedding)\n",
        "\n",
        "        # Item embedding\n",
        "        item_input = Input(shape=(1,))\n",
        "        item_embedding = Embedding(num_items, embedding_size, input_length=1)(item_input)\n",
        "        item_vec = Flatten()(item_embedding)\n",
        "\n",
        "        # Concatenate embeddings\n",
        "        concat = Concatenate()([user_vec, item_vec])\n",
        "\n",
        "        # Add dense layers with dropout\n",
        "        dense = Dense(128, activation='relu')(concat)\n",
        "        dropout = Dropout(0.5)(dense)\n",
        "        dense = Dense(64, activation='relu')(dropout)\n",
        "        dropout = Dropout(0.5)(dense)\n",
        "        dense = Dense(32, activation='relu')(dropout)\n",
        "        dropout = Dropout(0.5)(dense)\n",
        "\n",
        "        # Output layer\n",
        "        output = Dense(1)(dropout)\n",
        "\n",
        "        super().__init__(inputs=[user_input, item_input], outputs=output)\n",
        "        self.compile(optimizer='adam', loss='mse')\n",
        "\n",
        "deep_cf_model = DeepCFModel(num_users, num_items, K_FACTORS)\n",
        "\n",
        "# Compile the model using MSE as the loss function and the Adam optimizer\n",
        "deep_cf_model.compile(loss='mse', optimizer='adam')\n",
        "\n",
        "# Train the model\n",
        "deep_cf_model.fit([Users, Movies], Ratings, epochs=10, batch_size=64, validation_split=0.2,\n",
        "                  callbacks=[EarlyStopping(patience=2), ModelCheckpoint('deep_model.h5', save_best_only=True)])\n",
        "\n",
        "# Function to get top-N recommendations for a user\n",
        "def get_user_based_recommendations(user_id, num_recommendations=10):\n",
        "    all_movie_ids = np.array([movie_id for movie_id in range(1, max_movieid+1)])\n",
        "    predicted_ratings = deep_cf_model.predict([np.array([user_id] * len(all_movie_ids)), all_movie_ids])\n",
        "    top_indices = np.argsort(predicted_ratings.flatten())[::-1][:num_recommendations]\n",
        "    recommended_movie_ids = all_movie_ids[top_indices]\n",
        "    recommended_movies = movies[movies['movieId'].isin(recommended_movie_ids)]\n",
        "    return recommended_movies\n",
        "\n",
        "# Example usage\n",
        "user_id = 1  # Change this to the desired user ID\n",
        "recommendations = get_user_based_recommendations(user_id, num_recommendations=10)\n",
        "print(recommendations)"
      ],
      "metadata": {
        "colab": {
          "base_uri": "https://localhost:8080/"
        },
        "id": "n3CBMMdKinIe",
        "outputId": "ef3718c1-794b-4862-9c4d-730bda1809e9"
      },
      "execution_count": 22,
      "outputs": [
        {
          "output_type": "stream",
          "name": "stdout",
          "text": [
            "Epoch 1/10\n",
            "1261/1261 [==============================] - 16s 12ms/step - loss: 2.2527 - val_loss: 0.8837\n",
            "Epoch 2/10\n",
            "1261/1261 [==============================] - 12s 10ms/step - loss: 1.3703 - val_loss: 0.8085\n",
            "Epoch 3/10\n",
            "1261/1261 [==============================] - 12s 10ms/step - loss: 1.0691 - val_loss: 0.7857\n",
            "Epoch 4/10\n",
            "1261/1261 [==============================] - 12s 10ms/step - loss: 0.8763 - val_loss: 0.7768\n",
            "Epoch 5/10\n",
            "1261/1261 [==============================] - 12s 9ms/step - loss: 0.7581 - val_loss: 0.7680\n",
            "Epoch 6/10\n",
            "1261/1261 [==============================] - 11s 9ms/step - loss: 0.6927 - val_loss: 0.7687\n",
            "Epoch 7/10\n",
            "1261/1261 [==============================] - 11s 9ms/step - loss: 0.6525 - val_loss: 0.7712\n",
            "6051/6051 [==============================] - 10s 2ms/step\n",
            "      movieId                                              title  \\\n",
            "1072     1392                                Citizen Ruth (1996)   \n",
            "1649     2202                                    Lifeboat (1944)   \n",
            "2479     3302                            Beautiful People (1999)   \n",
            "2582     3451                Guess Who's Coming to Dinner (1967)   \n",
            "2597     3473  Jonah Who Will Be 25 in the Year 2000 (Jonas q...   \n",
            "4396     6460                     Trial, The (Procès, Le) (1962)   \n",
            "4782     7121                                  Adam's Rib (1949)   \n",
            "6048    40412                            Dead Man's Shoes (2004)   \n",
            "7364    78836                              Enter the Void (2009)   \n",
            "7593    86377                       Louis C.K.: Shameless (2007)   \n",
            "\n",
            "              genres  \n",
            "1072    Comedy|Drama  \n",
            "1649       Drama|War  \n",
            "2479          Comedy  \n",
            "2582           Drama  \n",
            "2597          Comedy  \n",
            "4396           Drama  \n",
            "4782  Comedy|Romance  \n",
            "6048  Crime|Thriller  \n",
            "7364           Drama  \n",
            "7593          Comedy  \n"
          ]
        }
      ]
    },
    {
      "cell_type": "code",
      "source": [
        "train_data, test_data = train_test_split(ratings, test_size=0.2, random_state=42)"
      ],
      "metadata": {
        "id": "hFWIckpdkQit"
      },
      "execution_count": 24,
      "outputs": []
    },
    {
      "cell_type": "code",
      "source": [
        "# Prepare the test data for evaluation\n",
        "test_users = test_data['userId'].values\n",
        "test_movies = test_data['movieId'].values\n",
        "test_ratings = test_data['rating'].values\n",
        "\n",
        "# Predict ratings for the test set\n",
        "predicted_test_ratings = deep_cf_model.predict([test_users, test_movies])\n",
        "\n",
        "# Calculate RMSE\n",
        "rmse = np.sqrt(mean_squared_error(test_ratings, predicted_test_ratings))\n",
        "print(f'RMSE: {rmse}')"
      ],
      "metadata": {
        "colab": {
          "base_uri": "https://localhost:8080/"
        },
        "id": "h_YJDpXRjXUK",
        "outputId": "96f90d9a-afe4-43e2-b7e6-6bbfb2259c6f"
      },
      "execution_count": 25,
      "outputs": [
        {
          "output_type": "stream",
          "name": "stdout",
          "text": [
            "631/631 [==============================] - 1s 2ms/step\n",
            "RMSE: 0.7545061377427207\n"
          ]
        }
      ]
    },
    {
      "cell_type": "code",
      "source": [
        "deep_cf_model.save('user_based_recommendation_model.h5')"
      ],
      "metadata": {
        "colab": {
          "base_uri": "https://localhost:8080/"
        },
        "id": "v-iuW6E9kPOK",
        "outputId": "058af5fe-bd1f-41ca-c150-3dcdc81a3b29"
      },
      "execution_count": 26,
      "outputs": [
        {
          "output_type": "stream",
          "name": "stderr",
          "text": [
            "/usr/local/lib/python3.10/dist-packages/keras/src/engine/training.py:3103: UserWarning: You are saving your model as an HDF5 file via `model.save()`. This file format is considered legacy. We recommend using instead the native Keras format, e.g. `model.save('my_model.keras')`.\n",
            "  saving_api.save_model(\n"
          ]
        }
      ]
    },
    {
      "cell_type": "code",
      "source": [],
      "metadata": {
        "id": "auWeVEkwkwdi"
      },
      "execution_count": null,
      "outputs": []
    }
  ]
}